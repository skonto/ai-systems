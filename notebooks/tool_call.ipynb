{
 "cells": [
  {
   "cell_type": "code",
   "execution_count": null,
   "id": "be734bf6-0772-40b9-b03d-25c075228d47",
   "metadata": {},
   "outputs": [],
   "source": [
    "!uv add --active --dev openai python-dotenv tavily-python"
   ]
  },
  {
   "cell_type": "code",
   "execution_count": 18,
   "id": "c2b525ef-49ad-4d94-a1e7-efb901673bc7",
   "metadata": {},
   "outputs": [],
   "source": [
    "import os\n",
    "from openai import OpenAI\n",
    "from dotenv import load_dotenv\n",
    "def load_openai_client() -> OpenAI:\n",
    "    try:\n",
    "        load_dotenv(dotenv_path=\".env\")\n",
    "    except ImportError:\n",
    "        print(\"💡 Tip: Install python-dotenv with `pip install python-dotenv`\")\n",
    "\n",
    "    api_key = os.getenv(\"OPENAI_API_KEY\")\n",
    "\n",
    "    if not api_key:\n",
    "        raise ValueError(\"❌ OPENAI_API_KEY not found. Set it in .env or via os.environ.\")\n",
    "\n",
    "    return OpenAI(api_key=api_key)"
   ]
  },
  {
   "cell_type": "code",
   "execution_count": 19,
   "id": "33ca3057-04ee-4bd3-8394-dc46a7a21fc1",
   "metadata": {},
   "outputs": [],
   "source": [
    "import os\n",
    "import json\n",
    "from typing import Callable, Dict\n",
    "from openai import OpenAI\n",
    "from tavily import TavilyClient\n",
    "import os\n",
    "from dotenv import load_dotenv\n",
    "\n",
    "# Setup OpenAI client\n",
    "client = load_openai_client()\n",
    "\n",
    "def search_tool(query: str, max_results: int = 3) -> str:\n",
    "    api_key = os.getenv(\"TAVILY_API_KEY\")\n",
    "    if not api_key:\n",
    "        raise ValueError(\"TAVILY_API_KEY not found in environment.\")\n",
    "\n",
    "    client = TavilyClient(api_key=api_key)\n",
    "    response = client.search(query=query, max_results=max_results)\n",
    "\n",
    "    if not response or \"results\" not in response:\n",
    "        return \"No results found.\"\n",
    "\n",
    "    return response[\"results\"]\n",
    "\n",
    "def calculator_tool(expr: str) -> str:\n",
    "    try:\n",
    "        return str(eval(expr))\n",
    "    except Exception as e:\n",
    "        return f\"Error: {e}\"\n",
    "\n",
    "TOOLS: Dict[str, Callable[[str], str]] = {\n",
    "    \"search\": search_tool,\n",
    "    \"calculate\": calculator_tool,\n",
    "}\n"
   ]
  },
  {
   "cell_type": "code",
   "execution_count": 20,
   "id": "d6892aa7-186c-4f6e-aac6-5cfeaaed46f4",
   "metadata": {},
   "outputs": [
    {
     "data": {
      "text/plain": [
       "[{'url': 'https://en.wikipedia.org/wiki/Rust',\n",
       "  'title': 'Rust - Wikipedia',\n",
       "  'content': 'Rust is an iron oxide, a usually reddish-brown oxide formed by the reaction of iron and oxygen in the catalytic presence of water or air moisture.',\n",
       "  'score': 0.918838,\n",
       "  'raw_content': None},\n",
       " {'url': 'https://www.metaltek.com/blog/what-is-rust-and-how-to-prevent-it/',\n",
       "  'title': 'What Is Rust And How To Prevent It - MetalTek International',\n",
       "  'content': 'Rust is a form of corrosion that primarily affects iron and its alloys, such as steel. The chemical reaction between iron, oxygen, and water forms iron oxide,',\n",
       "  'score': 0.8358192,\n",
       "  'raw_content': None},\n",
       " {'url': 'https://www.rust-lang.org/',\n",
       "  'title': 'Rust Programming Language',\n",
       "  'content': 'Rust Programming Language Rust Logo # Rust ## Why Rust? Rust has great documentation, a friendly compiler with useful error ## Build it in Rust Rust is great for network services. Rust has you covered. ## Rust in production corporations, from embedded devices to scalable web services, Rust is a great fit.** ### Read Rust ### Watch Rust Rust is truly a community effort, and we welcome contribution from hobbyists and production users, from Rust would not exist without the generous contributions of time, work, and resources from individuals and companies. Rust is a community project and is very thankful for the many community contributions it receives. The Rust project receives support from companies through the Rust Foundation. - Rust Forge (Contributor Documentation)',\n",
       "  'score': 0.6599319,\n",
       "  'raw_content': None}]"
      ]
     },
     "execution_count": 20,
     "metadata": {},
     "output_type": "execute_result"
    }
   ],
   "source": [
    "search_tool(\"what is Rust?\")"
   ]
  },
  {
   "cell_type": "code",
   "execution_count": 21,
   "id": "2e063cde-79b1-4636-8b84-8e6912061a2d",
   "metadata": {},
   "outputs": [],
   "source": [
    "def run_agent_notebook(query: str, max_iterations: int = 3):\n",
    "    system_prompt = \"\"\"\n",
    "You are a reasoning agent. Your job is to answer multi-part user questions by first planning tool usage.\n",
    "\n",
    "You can use the following tools:\n",
    "- \"search\" → for looking up concepts (e.g., \"What is Python?\")\n",
    "- \"calculate\" → for numeric math (e.g., \"2 * 10\")\n",
    "\n",
    "Your response must always be JSON:\n",
    "{\n",
    "  \"tool\": \"search\" | \"calculate\" | null,\n",
    "  \"input\": string,\n",
    "  \"final_answer\": optional string\n",
    "}\n",
    "\n",
    "Only include \"final_answer\" if you have answered **all parts** of the user question using available tools.\n",
    "\"\"\"\n",
    "\n",
    "    messages = [\n",
    "        {\"role\": \"system\", \"content\": system_prompt},\n",
    "        {\"role\": \"user\", \"content\": query},\n",
    "    ]\n",
    "\n",
    "    for i in range(max_iterations):\n",
    "        print(f\"\\n🧠 Iteration {i+1}\")\n",
    "\n",
    "        response = client.chat.completions.create(\n",
    "            model=\"gpt-4\",\n",
    "            messages=messages,\n",
    "            temperature=0\n",
    "        )\n",
    "\n",
    "        content = response.choices[0].message.content\n",
    "        print(\"📩 LLM:\", content)\n",
    "\n",
    "        try:\n",
    "            parsed = json.loads(content)\n",
    "        except json.JSONDecodeError as e:\n",
    "            print(\"❌ JSON parsing failed:\", e)\n",
    "            break\n",
    "\n",
    "        if parsed.get(\"final_answer\"):\n",
    "            print(f\"\\n✅ Final Answer: {parsed['final_answer']}\")\n",
    "            break\n",
    "\n",
    "        tool = parsed.get(\"tool\")\n",
    "        tool_input = parsed.get(\"input\")\n",
    "\n",
    "        if tool not in TOOLS:\n",
    "            print(f\"❌ Unknown tool: {tool}\")\n",
    "            break\n",
    "\n",
    "        output = TOOLS[tool](tool_input)\n",
    "        print(f\"🛠️ `{tool}` → {output}\")\n",
    "\n",
    "        # Feed back into LLM\n",
    "        messages.append({\"role\": \"assistant\", \"content\": content})\n",
    "        messages.append({\"role\": \"user\", \"content\": f\"Tool `{tool}` output: {output}\"})\n"
   ]
  },
  {
   "cell_type": "code",
   "execution_count": 22,
   "id": "7c8bf9ea-5eda-4267-bf23-a44dd96ff994",
   "metadata": {},
   "outputs": [
    {
     "name": "stdout",
     "output_type": "stream",
     "text": [
      "\n",
      "🧠 Iteration 1\n",
      "📩 LLM: {\n",
      "  \"tool\": \"search\",\n",
      "  \"input\": \"What is Java\"\n",
      "}\n",
      "🛠️ `search` → [{'url': 'https://www.geeksforgeeks.org/java/introduction-to-java/', 'title': 'Introduction to Java - GeeksforGeeks', 'content': 'Java is a high-level, object-oriented programming language developed by Sun Microsystems in 1995. It is platform-independent, which means we can', 'score': 0.8497846, 'raw_content': None}, {'url': 'https://aws.amazon.com/what-is/java/', 'title': 'What is Java? - Java Programming Language Explained - AWS', 'content': '# What is Java? ## What is Java? Java is a widely-used programming language for coding web applications. ## What is Java programming language used for? ## What is Java programming language used for? Cloud providers choose Java language to run programs on a wide range of underlying platforms. Some reasons developers continue to choose Java over other programming languages include: This is the front-end communication between the developer and the Java platform. The Java program was the first language to combine both methods above using a Java Virtual Machine (JVM). ## How to program in Java The SDK code examples contain Java code examples and real-world use cases for AWS services to help accelerate the development of your applications.', 'score': 0.8194462, 'raw_content': None}, {'url': 'https://www.java.com/en/download/help/whatis_java.html', 'title': 'What is Java technology and why do I need it?', 'content': 'What is Java and why do I need it? Installing Java Disable Java Using Java Is Java free to download? What will I get when I download Java software from java.com? The Java Runtime Environment (JRE) version 8 is what you get when you download Java software from java.com. The JRE is the runtime portion of Java software, which is all you need to run Java WebStart applications from a supported web browser. What is Java Plug-in software? Is this Java software? The Java Virtual Machine is only one part of Java software that is involved in running an application. The Java Virtual Machine is built right into your Java software download, part of the JRE and helps run Java applications.', 'score': 0.54608524, 'raw_content': None}]\n",
      "\n",
      "🧠 Iteration 2\n",
      "📩 LLM: {\n",
      "  \"tool\": \"calculate\",\n",
      "  \"input\": \"2 * 10\"\n",
      "}\n",
      "🛠️ `calculate` → 20\n",
      "\n",
      "🧠 Iteration 3\n",
      "📩 LLM: {\n",
      "  \"tool\": null,\n",
      "  \"input\": \"\",\n",
      "  \"final_answer\": \"Java is a high-level, object-oriented programming language developed by Sun Microsystems in 1995. It is widely used for coding web applications and is platform-independent. The result of 2 * 10 is 20.\"\n",
      "}\n",
      "\n",
      "✅ Final Answer: Java is a high-level, object-oriented programming language developed by Sun Microsystems in 1995. It is widely used for coding web applications and is platform-independent. The result of 2 * 10 is 20.\n"
     ]
    }
   ],
   "source": [
    "run_agent_notebook(\"What is Java and what is 2 * 10?\")"
   ]
  }
 ],
 "metadata": {
  "kernelspec": {
   "display_name": "project",
   "language": "python",
   "name": "project"
  },
  "language_info": {
   "codemirror_mode": {
    "name": "ipython",
    "version": 3
   },
   "file_extension": ".py",
   "mimetype": "text/x-python",
   "name": "python",
   "nbconvert_exporter": "python",
   "pygments_lexer": "ipython3",
   "version": "3.12.10"
  }
 },
 "nbformat": 4,
 "nbformat_minor": 5
}
